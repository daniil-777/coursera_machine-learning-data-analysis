import re
import string
import scipy.spatial
import numpy as np
with open("sentences.txt", "r") as file:
    file_obj = file.readlines()

j = 0
k = 0
word_number = dict()

for i in range(len(file_obj)):
   
    file_obj[i] = re.split('[^a-z]', file_obj[i].lower())
     
    ##line = [x for x in line if x != '']
    file_obj[i] = list(filter(None,  file_obj[i] ))
    print  file_obj[i]
    for word in file_obj[i]:
        if word not in word_number:
            word_number[word]=j
            j+=1 
            print word, word_number[word]
print len(file_obj)
print type(file_obj[3])
a = np.zeros((len(file_obj),j))
for line in range(len(file_obj)):
    for word in file_obj[line]:
        word_i=word_number[word]
        a[line][word_i] += 1
        
print a
print a.shape
a = np.array(a)
lengths = list()
for i in range(len(file_obj)):
    length = scipy.spatial.distance.cosine(a[0], a[i])
    lengths.append((i, length))
sorted_list = sorted(lengths, key=lambda tup: tup[1])
print sorted_list[1][0], sorted_list[2][0]
